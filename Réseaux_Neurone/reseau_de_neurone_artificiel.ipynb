{
 "cells": [
  {
   "cell_type": "markdown",
   "id": "36ef29ee",
   "metadata": {},
   "source": [
    "# Implementation des Réseaux de Neurone Artificiel"
   ]
  },
  {
   "cell_type": "code",
   "execution_count": 99,
   "id": "a0417e39",
   "metadata": {},
   "outputs": [],
   "source": [
    "import numpy as np\n",
    "import matplotlib.pyplot as plt\n",
    "from sklearn.datasets import make_blobs"
   ]
  },
  {
   "cell_type": "markdown",
   "id": "ccfbff5f",
   "metadata": {},
   "source": [
    "## Création du Dataset"
   ]
  },
  {
   "cell_type": "code",
   "execution_count": 100,
   "id": "18bfc3ae",
   "metadata": {},
   "outputs": [
    {
     "name": "stdout",
     "output_type": "stream",
     "text": [
      "dimensions de X: (100, 2)\n",
      "dimensions de y: (100, 1)\n"
     ]
    },
    {
     "data": {
      "image/png": "[encoded data removed]",
      "text/plain": [
       "<Figure size 432x288 with 1 Axes>"
      ]
     },
     "metadata": {
      "needs_background": "light"
     },
     "output_type": "display_data"
    }
   ],
   "source": [
    "X, y = make_blobs(n_samples=100, n_features=2, centers=2, random_state=0)\n",
    "y = y.reshape((y.shape[0], 1))\n",
    "\n",
    "print('dimensions de X:', X.shape)\n",
    "print('dimensions de y:', y.shape)\n",
    "\n",
    "plt.scatter(X[:,0], X[:, 1], c=y, cmap='summer')\n",
    "plt.show()"
   ]
  },
  {
   "cell_type": "markdown",
   "id": "06e8e773",
   "metadata": {},
   "source": [
    "## Création de la fonction d'initialisation\n",
    "![image](84.png)"
   ]
  },
  {
   "cell_type": "code",
   "execution_count": 101,
   "id": "0c63913e",
   "metadata": {},
   "outputs": [],
   "source": [
    "def initialisation(X):\n",
    "    W = np.random.randn(X.shape[1], 1)\n",
    "    b = np.random.randn(1)\n",
    "    return (W, b)"
   ]
  },
  {
   "cell_type": "markdown",
   "id": "af3055a4",
   "metadata": {},
   "source": [
    "## Testons la Fonction d'Initialisation"
   ]
  },
  {
   "cell_type": "code",
   "execution_count": 102,
   "id": "3de316eb",
   "metadata": {},
   "outputs": [
    {
     "name": "stdout",
     "output_type": "stream",
     "text": [
      "La taille de w: (2, 1)\n",
      "La taille de b: (1,)\n",
      "w: [[0.15972912]\n",
      " [0.88707996]]\n",
      "b:[1.7866817]\n"
     ]
    }
   ],
   "source": [
    "w, b = initialisation(X)\n",
    "print(f'La taille de w: {w.shape}')\n",
    "print(f'La taille de b: {b.shape}')\n",
    "\n",
    "print(f'w: {w}\\nb:{b}')"
   ]
  },
  {
   "cell_type": "markdown",
   "id": "8c99b88b",
   "metadata": {},
   "source": [
    "## Création du Modèle\n",
    "![image](model.png)"
   ]
  },
  {
   "cell_type": "markdown",
   "id": "73d203ff",
   "metadata": {},
   "source": [
    "### Création de la Fonction Sigmoïd"
   ]
  },
  {
   "cell_type": "code",
   "execution_count": 82,
   "id": "b9f2e74e",
   "metadata": {},
   "outputs": [],
   "source": [
    "def sigmoid(z):\n",
    "    return 1 / (1+np.exp(-z))"
   ]
  },
  {
   "cell_type": "code",
   "execution_count": 104,
   "id": "236a9a00",
   "metadata": {},
   "outputs": [],
   "source": [
    "def model(X, W, b):\n",
    "    Z = X.dot(W) + b\n",
    "    A = 1 / (1 + np.exp(-Z))\n",
    "    return A"
   ]
  },
  {
   "cell_type": "code",
   "execution_count": null,
   "id": "e41327b1",
   "metadata": {},
   "outputs": [],
   "source": []
  },
  {
   "cell_type": "markdown",
   "id": "95393052",
   "metadata": {},
   "source": [
    "## Testons le Modèle"
   ]
  },
  {
   "cell_type": "code",
   "execution_count": 105,
   "id": "e16ed01a",
   "metadata": {},
   "outputs": [
    {
     "name": "stdout",
     "output_type": "stream",
     "text": [
      "Shape de A: (100, 1)\n"
     ]
    }
   ],
   "source": [
    "A = model(X, w, b)\n",
    "print(f'Shape de A: {A.shape}')"
   ]
  },
  {
   "cell_type": "markdown",
   "id": "8b14edec",
   "metadata": {},
   "source": [
    "## La Fonction Coût de Notre Modèle\n",
    "![image](fonction_cout.png)"
   ]
  },
  {
   "cell_type": "code",
   "execution_count": 106,
   "id": "b839811a",
   "metadata": {},
   "outputs": [],
   "source": [
    "def log_loss(A, y):\n",
    "    return 1 / len(y) * np.sum(-y * np.log(A) - (1 - y) * np.log(1 - A))"
   ]
  },
  {
   "cell_type": "code",
   "execution_count": 107,
   "id": "4510a38d",
   "metadata": {},
   "outputs": [],
   "source": [
    "loss = log_loss(A, y)"
   ]
  },
  {
   "cell_type": "code",
   "execution_count": 108,
   "id": "77b4bef8",
   "metadata": {},
   "outputs": [
    {
     "data": {
      "text/plain": [
       "2.9321538031076733"
      ]
     },
     "execution_count": 108,
     "metadata": {},
     "output_type": "execute_result"
    }
   ],
   "source": [
    "loss"
   ]
  },
  {
   "cell_type": "markdown",
   "id": "3b1a9816",
   "metadata": {},
   "source": [
    "## Les Gradients de Notre Modèle\n",
    "![image](gradients.png)"
   ]
  },
  {
   "cell_type": "code",
   "execution_count": 109,
   "id": "6febfa22",
   "metadata": {},
   "outputs": [],
   "source": [
    "def gradients(A, X, y):\n",
    "    dW = 1 / len(y) * np.dot(X.T, A - y)\n",
    "    db = 1 / len(y) * np.sum(A - y)\n",
    "    return (dW, db)"
   ]
  },
  {
   "cell_type": "markdown",
   "id": "1347c958",
   "metadata": {},
   "source": [
    "## Testons les Gradients"
   ]
  },
  {
   "cell_type": "code",
   "execution_count": 110,
   "id": "71a27958",
   "metadata": {},
   "outputs": [
    {
     "name": "stdout",
     "output_type": "stream",
     "text": [
      "Shape de dw: (1, 2)\n",
      "db: 3.215940495699665\n"
     ]
    }
   ],
   "source": [
    "dw, db = gradients(X, A, y)\n",
    "print(f'Shape de dw: {dw.shape}\\ndb: {db}')"
   ]
  },
  {
   "cell_type": "markdown",
   "id": "ca41280c",
   "metadata": {},
   "source": [
    "## Mise à Jour des Gradients\n",
    "\n",
    "![image](update.png)"
   ]
  },
  {
   "cell_type": "code",
   "execution_count": 111,
   "id": "e78465d5",
   "metadata": {},
   "outputs": [],
   "source": [
    "def update(dW, db, W, b, learning_rate):\n",
    "    W = W - learning_rate * dW\n",
    "    b = b - learning_rate * db\n",
    "    return (W, b)"
   ]
  },
  {
   "cell_type": "markdown",
   "id": "e80d785d",
   "metadata": {},
   "source": [
    "## Testons la Mise à Jour des Gradients"
   ]
  },
  {
   "cell_type": "code",
   "execution_count": 112,
   "id": "fa69f40f",
   "metadata": {},
   "outputs": [
    {
     "data": {
      "text/plain": [
       "(array([[0.11142288, 0.04789383],\n",
       "        [0.83877372, 0.77524467]]),\n",
       " array([1.62588468]))"
      ]
     },
     "execution_count": 112,
     "metadata": {},
     "output_type": "execute_result"
    }
   ],
   "source": [
    "update(dw, db, w, b, 0.05)"
   ]
  },
  {
   "cell_type": "markdown",
   "id": "d743df06",
   "metadata": {},
   "source": [
    "## Entrainement du Modèle\n",
    "![image](train_cnn.png)"
   ]
  },
  {
   "cell_type": "code",
   "execution_count": 93,
   "id": "3b1e01bc",
   "metadata": {},
   "outputs": [],
   "source": [
    "from sklearn.metrics import accuracy_score"
   ]
  },
  {
   "cell_type": "code",
   "execution_count": 113,
   "id": "adbb5284",
   "metadata": {},
   "outputs": [],
   "source": [
    "def predict(X, W, b):\n",
    "    A = model(X, W, b)\n",
    "    # print(A)\n",
    "    return A >= 0.5"
   ]
  },
  {
   "cell_type": "code",
   "execution_count": 119,
   "id": "7a170f63",
   "metadata": {},
   "outputs": [],
   "source": [
    " def artificial_neuron(X, y, learning_rate = 0.1, n_iter = 100):\n",
    "    # initialisation W, b\n",
    "    W, b = initialisation(X)\n",
    "\n",
    "    Loss = []\n",
    "\n",
    "    for i in range(n_iter):\n",
    "        A = model(X, W, b)\n",
    "        Loss.append(log_loss(A, y))\n",
    "        dW, db = gradients(A, X, y)\n",
    "        W, b = update(dW, db, W, b, learning_rate)\n",
    "\n",
    "    y_pred = predict(X, W, b)\n",
    "    print(accuracy_score(y, y_pred))\n",
    "\n",
    "    plt.plot(Loss)\n",
    "    plt.show()\n",
    "\n",
    "    return (W, b)\n",
    "    "
   ]
  },
  {
   "cell_type": "markdown",
   "id": "fb88171f",
   "metadata": {},
   "source": [
    "## Testons Notre Modèle"
   ]
  },
  {
   "cell_type": "code",
   "execution_count": 120,
   "id": "2cf3aa7c",
   "metadata": {},
   "outputs": [
    {
     "name": "stdout",
     "output_type": "stream",
     "text": [
      "0.86\n"
     ]
    },
    {
     "data": {
      "image/png": "[encoded data removed]",
      "text/plain": [
       "<Figure size 432x288 with 1 Axes>"
      ]
     },
     "metadata": {
      "needs_background": "light"
     },
     "output_type": "display_data"
    }
   ],
   "source": [
    "W, b = artificial_neuron(X, y)"
   ]
  },
  {
   "cell_type": "code",
   "execution_count": null,
   "id": "536d65a6",
   "metadata": {},
   "outputs": [],
   "source": []
  },
  {
   "cell_type": "code",
   "execution_count": null,
   "id": "b2db091b",
   "metadata": {},
   "outputs": [],
   "source": []
  },
  {
   "cell_type": "code",
   "execution_count": null,
   "id": "7c5d73eb",
   "metadata": {},
   "outputs": [],
   "source": []
  }
 ],
 "metadata": {
  "kernelspec": {
   "display_name": "Python 3",
   "language": "python",
   "name": "python3"
  },
  "language_info": {
   "codemirror_mode": {
    "name": "ipython",
    "version": 3
   },
   "file_extension": ".py",
   "mimetype": "text/x-python",
   "name": "python",
   "nbconvert_exporter": "python",
   "pygments_lexer": "ipython3",
   "version": "3.8.5"
  }
 },
 "nbformat": 4,
 "nbformat_minor": 5
}
